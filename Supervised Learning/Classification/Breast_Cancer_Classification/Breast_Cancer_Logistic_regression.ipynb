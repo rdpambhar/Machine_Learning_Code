{
 "cells": [
  {
   "cell_type": "markdown",
   "metadata": {},
   "source": [
    "<a href=\"https://colab.research.google.com/githubrdpambhar/Machine_Learning_Code/blob/main/Machine_Learning_Code/Supervised%20Learning/Classification/Breast_Cancer_Classification/Breast_Cancer_Logistic_regression.ipynb\" target=\"_parent\"><img src=\"https://colab.research.google.com/assets/colab-badge.svg\" alt=\"Open In Colab\"/></a>"
   ]
  },
  {
   "cell_type": "markdown",
   "metadata": {
    "id": "CQLFLIZIOYoB"
   },
   "source": [
    "# Import libraries and load Data"
   ]
  },
  {
   "cell_type": "code",
   "execution_count": 1,
   "metadata": {
    "executionInfo": {
     "elapsed": 246,
     "status": "ok",
     "timestamp": 1639825601031,
     "user": {
      "displayName": "Ravi Vaghasiya",
      "photoUrl": "https://lh3.googleusercontent.com/a-/AOh14GjDNBmuvfP0Zl1UXiyJhTXmMIeiuKQ0xltwh-0ZDQ=s64",
      "userId": "16114419505688279817"
     },
     "user_tz": -60
    },
    "id": "q-a4udDhNePP"
   },
   "outputs": [],
   "source": [
    "import pandas as pd\n",
    "import numpy as np"
   ]
  },
  {
   "cell_type": "code",
   "execution_count": 2,
   "metadata": {
    "executionInfo": {
     "elapsed": 220,
     "status": "ok",
     "timestamp": 1639825539106,
     "user": {
      "displayName": "Ravi Vaghasiya",
      "photoUrl": "https://lh3.googleusercontent.com/a-/AOh14GjDNBmuvfP0Zl1UXiyJhTXmMIeiuKQ0xltwh-0ZDQ=s64",
      "userId": "16114419505688279817"
     },
     "user_tz": -60
    },
    "id": "PTJt5i8INub0"
   },
   "outputs": [],
   "source": [
    "df=pd.read_csv('breast_cancer.csv')\n",
    "X=df.iloc[:,1:-1].values\n",
    "y=df.iloc[:,-1].values"
   ]
  },
  {
   "cell_type": "markdown",
   "metadata": {
    "id": "vYVJhAEQOi9I"
   },
   "source": [
    "### Spliting Data into training and test set "
   ]
  },
  {
   "cell_type": "code",
   "execution_count": 3,
   "metadata": {
    "executionInfo": {
     "elapsed": 193,
     "status": "ok",
     "timestamp": 1639825861604,
     "user": {
      "displayName": "Ravi Vaghasiya",
      "photoUrl": "https://lh3.googleusercontent.com/a-/AOh14GjDNBmuvfP0Zl1UXiyJhTXmMIeiuKQ0xltwh-0ZDQ=s64",
      "userId": "16114419505688279817"
     },
     "user_tz": -60
    },
    "id": "haXvMLG0O884"
   },
   "outputs": [],
   "source": [
    "from sklearn.model_selection import train_test_split\n",
    "X_train,X_test,y_train,y_test=train_test_split(X,y,test_size=0.2,random_state=0)"
   ]
  },
  {
   "cell_type": "markdown",
   "metadata": {
    "id": "YVwtDbJFOpE5"
   },
   "source": [
    "### Train the Logistic Regression Model"
   ]
  },
  {
   "cell_type": "code",
   "execution_count": 4,
   "metadata": {
    "colab": {
     "base_uri": "https://localhost:8080/"
    },
    "executionInfo": {
     "elapsed": 226,
     "status": "ok",
     "timestamp": 1639825932502,
     "user": {
      "displayName": "Ravi Vaghasiya",
      "photoUrl": "https://lh3.googleusercontent.com/a-/AOh14GjDNBmuvfP0Zl1UXiyJhTXmMIeiuKQ0xltwh-0ZDQ=s64",
      "userId": "16114419505688279817"
     },
     "user_tz": -60
    },
    "id": "IQZd6iBJPP-r",
    "outputId": "a43e5925-37db-4812-befe-c44a168bf0b3"
   },
   "outputs": [
    {
     "data": {
      "text/plain": [
       "LogisticRegression()"
      ]
     },
     "execution_count": 4,
     "metadata": {},
     "output_type": "execute_result"
    }
   ],
   "source": [
    "from sklearn.linear_model import LogisticRegression\n",
    "cls=LogisticRegression()\n",
    "cls.fit(X_train,y_train)"
   ]
  },
  {
   "cell_type": "markdown",
   "metadata": {
    "id": "GHs47wOPOwKJ"
   },
   "source": [
    "### Predict Test Result"
   ]
  },
  {
   "cell_type": "code",
   "execution_count": 5,
   "metadata": {
    "executionInfo": {
     "elapsed": 8,
     "status": "ok",
     "timestamp": 1639825961715,
     "user": {
      "displayName": "Ravi Vaghasiya",
      "photoUrl": "https://lh3.googleusercontent.com/a-/AOh14GjDNBmuvfP0Zl1UXiyJhTXmMIeiuKQ0xltwh-0ZDQ=s64",
      "userId": "16114419505688279817"
     },
     "user_tz": -60
    },
    "id": "joKMyb-3PhUp"
   },
   "outputs": [],
   "source": [
    "y_predict=cls.predict(X_test)"
   ]
  },
  {
   "cell_type": "markdown",
   "metadata": {
    "id": "g24f9St_O0LJ"
   },
   "source": [
    "### Make confusion Matrix"
   ]
  },
  {
   "cell_type": "code",
   "execution_count": 6,
   "metadata": {
    "colab": {
     "base_uri": "https://localhost:8080/"
    },
    "executionInfo": {
     "elapsed": 9,
     "status": "ok",
     "timestamp": 1639826014713,
     "user": {
      "displayName": "Ravi Vaghasiya",
      "photoUrl": "https://lh3.googleusercontent.com/a-/AOh14GjDNBmuvfP0Zl1UXiyJhTXmMIeiuKQ0xltwh-0ZDQ=s64",
      "userId": "16114419505688279817"
     },
     "user_tz": -60
    },
    "id": "rVxSg8ihPn9A",
    "outputId": "fef249c9-abe1-4255-b853-3e779643b82b"
   },
   "outputs": [
    {
     "name": "stdout",
     "output_type": "stream",
     "text": [
      "[[84  3]\n",
      " [ 3 47]]\n"
     ]
    }
   ],
   "source": [
    "from sklearn.metrics import confusion_matrix\n",
    "cm=confusion_matrix(y_test,y_predict)\n",
    "print(cm)"
   ]
  },
  {
   "cell_type": "markdown",
   "metadata": {
    "id": "84rh2ADaO3WQ"
   },
   "source": [
    "### Compute the accuracy"
   ]
  },
  {
   "cell_type": "code",
   "execution_count": 7,
   "metadata": {
    "colab": {
     "base_uri": "https://localhost:8080/"
    },
    "executionInfo": {
     "elapsed": 1470,
     "status": "ok",
     "timestamp": 1639826406965,
     "user": {
      "displayName": "Ravi Vaghasiya",
      "photoUrl": "https://lh3.googleusercontent.com/a-/AOh14GjDNBmuvfP0Zl1UXiyJhTXmMIeiuKQ0xltwh-0ZDQ=s64",
      "userId": "16114419505688279817"
     },
     "user_tz": -60
    },
    "id": "jKWhsDCSQcXh",
    "outputId": "1bf77913-0a89-41a1-c5c2-5196126a6e91"
   },
   "outputs": [
    {
     "name": "stdout",
     "output_type": "stream",
     "text": [
      "Accuracy: 96.70 %\n"
     ]
    }
   ],
   "source": [
    "from sklearn.model_selection import cross_val_score\n",
    "acc=cross_val_score(cls,X_train,y_train,cv=10)\n",
    "print('Accuracy: {:.2f} %'.format(acc.mean()*100))"
   ]
  }
 ],
 "metadata": {
  "accelerator": "GPU",
  "colab": {
   "authorship_tag": "ABX9TyPgb0jvD4z8/2yW+sQJzTGQ",
   "collapsed_sections": [],
   "name": "Breast_Cancer_Logistic_regression.ipynb",
   "provenance": [],
   "toc_visible": true
  },
  "kernelspec": {
   "display_name": "Python 3 (ipykernel)",
   "language": "python",
   "name": "python3"
  },
  "language_info": {
   "codemirror_mode": {
    "name": "ipython",
    "version": 3
   },
   "file_extension": ".py",
   "mimetype": "text/x-python",
   "name": "python",
   "nbconvert_exporter": "python",
   "pygments_lexer": "ipython3",
   "version": "3.9.7"
  }
 },
 "nbformat": 4,
 "nbformat_minor": 1
}
