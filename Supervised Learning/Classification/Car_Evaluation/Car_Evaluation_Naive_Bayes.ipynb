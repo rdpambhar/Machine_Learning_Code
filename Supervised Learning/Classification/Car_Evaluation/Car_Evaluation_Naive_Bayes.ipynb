{
 "cells": [
  {
   "cell_type": "markdown",
   "metadata": {},
   "source": [
    "<a href=\"https://colab.research.google.com/github/rdpambhar/Machine_Learning_Code/blob/main/Machine_Learning_Code/Supervised%20Learning/Classification/Car_Evaluation/Car_Evaluation_Naive_Bayes.ipynb\" target=\"_parent\"><img src=\"https://colab.research.google.com/assets/colab-badge.svg\" alt=\"Open In Colab\"/></a>"
   ]
  },
  {
   "cell_type": "markdown",
   "metadata": {
    "id": "0MRC0e0KhQ0S"
   },
   "source": [
    "# Naive Bayes"
   ]
  },
  {
   "cell_type": "markdown",
   "metadata": {
    "id": "LWd1UlMnhT2s"
   },
   "source": [
    "### Importing the libraries"
   ]
  },
  {
   "cell_type": "code",
   "execution_count": 1,
   "metadata": {
    "id": "YvGPUQaHhXfL"
   },
   "outputs": [],
   "source": [
    "import numpy as np\n",
    "import matplotlib.pyplot as plt\n",
    "import pandas as pd"
   ]
  },
  {
   "cell_type": "markdown",
   "metadata": {
    "id": "6h7SSulaTz2C"
   },
   "source": [
    "### Import Datasets"
   ]
  },
  {
   "cell_type": "markdown",
   "metadata": {
    "id": "nSUOUqvoT3C0"
   },
   "source": [
    "Import Data Description"
   ]
  },
  {
   "cell_type": "code",
   "execution_count": 2,
   "metadata": {
    "colab": {
     "base_uri": "https://localhost:8080/"
    },
    "executionInfo": {
     "elapsed": 20,
     "status": "ok",
     "timestamp": 1640349433380,
     "user": {
      "displayName": "Ravi Vaghasiya",
      "photoUrl": "https://lh3.googleusercontent.com/a-/AOh14GjDNBmuvfP0Zl1UXiyJhTXmMIeiuKQ0xltwh-0ZDQ=s64",
      "userId": "16114419505688279817"
     },
     "user_tz": -60
    },
    "id": "t2NsD36uqR3j",
    "outputId": "02e48afd-d36b-4c87-9a37-6f52736ecd89"
   },
   "outputs": [
    {
     "name": "stdout",
     "output_type": "stream",
     "text": [
      "1. Title: Car Evaluation Database\n",
      "\n",
      "2. Sources:\n",
      "   (a) Creator: Marko Bohanec\n",
      "   (b) Donors: Marko Bohanec   (marko.bohanec@ijs.si)\n",
      "               Blaz Zupan      (blaz.zupan@ijs.si)\n",
      "   (c) Date: June, 1997\n",
      "\n",
      "3. Past Usage:\n",
      "\n",
      "   The hierarchical decision model, from which this dataset is\n",
      "   derived, was first presented in \n",
      "\n",
      "   M. Bohanec and V. Rajkovic: Knowledge acquisition and explanation for\n",
      "   multi-attribute decision making. In 8th Intl Workshop on Expert\n",
      "   Systems and their Applications, Avignon, France. pages 59-78, 1988.\n",
      "\n",
      "   Within machine-learning, this dataset was used for the evaluation\n",
      "   of HINT (Hierarchy INduction Tool), which was proved to be able to\n",
      "   completely reconstruct the original hierarchical model. This,\n",
      "   together with a comparison with C4.5, is presented in\n",
      "\n",
      "   B. Zupan, M. Bohanec, I. Bratko, J. Demsar: Machine learning by\n",
      "   function decomposition. ICML-97, Nashville, TN. 1997 (to appear)\n",
      "\n",
      "4. Relevant Information Paragraph:\n",
      "\n",
      "   Car Evaluation Database was derived from a simple hierarchical\n",
      "   decision model originally developed for the demonstration of DEX\n",
      "   (M. Bohanec, V. Rajkovic: Expert system for decision\n",
      "   making. Sistemica 1(1), pp. 145-157, 1990.). The model evaluates\n",
      "   cars according to the following concept structure:\n",
      "\n",
      "   CAR                      car acceptability\n",
      "   . PRICE                  overall price\n",
      "   . . buying               buying price\n",
      "   . . maint                price of the maintenance\n",
      "   . TECH                   technical characteristics\n",
      "   . . COMFORT              comfort\n",
      "   . . . doors              number of doors\n",
      "   . . . persons            capacity in terms of persons to carry\n",
      "   . . . lug_boot           the size of luggage boot\n",
      "   . . safety               estimated safety of the car\n",
      "\n",
      "   Input attributes are printed in lowercase. Besides the target\n",
      "   concept (CAR), the model includes three intermediate concepts:\n",
      "   PRICE, TECH, COMFORT. Every concept is in the original model\n",
      "   related to its lower level descendants by a set of examples (for\n",
      "   these examples sets see http://www-ai.ijs.si/BlazZupan/car.html).\n",
      "\n",
      "   The Car Evaluation Database contains examples with the structural\n",
      "   information removed, i.e., directly relates CAR to the six input\n",
      "   attributes: buying, maint, doors, persons, lug_boot, safety.\n",
      "\n",
      "   Because of known underlying concept structure, this database may be\n",
      "   particularly useful for testing constructive induction and\n",
      "   structure discovery methods.\n",
      "\n",
      "5. Number of Instances: 1728\n",
      "   (instances completely cover the attribute space)\n",
      "\n",
      "6. Number of Attributes: 6\n",
      "\n",
      "7. Attribute Values:\n",
      "\n",
      "   buying       v-high, high, med, low\n",
      "   maint        v-high, high, med, low\n",
      "   doors        2, 3, 4, 5-more\n",
      "   persons      2, 4, more\n",
      "   lug_boot     small, med, big\n",
      "   safety       low, med, high\n",
      "\n",
      "8. Missing Attribute Values: none\n",
      "\n",
      "9. Class Distribution (number of instances per class)\n",
      "\n",
      "   class      N          N[%]\n",
      "   -----------------------------\n",
      "   unacc     1210     (70.023 %) \n",
      "   acc        384     (22.222 %) \n",
      "   good        69     ( 3.993 %) \n",
      "   v-good      65     ( 3.762 %) \n",
      "\n"
     ]
    }
   ],
   "source": [
    "with open('car.names') as f:\n",
    "  print(f.read())"
   ]
  },
  {
   "cell_type": "code",
   "execution_count": 3,
   "metadata": {
    "colab": {
     "base_uri": "https://localhost:8080/",
     "height": 206
    },
    "executionInfo": {
     "elapsed": 17,
     "status": "ok",
     "timestamp": 1640349433381,
     "user": {
      "displayName": "Ravi Vaghasiya",
      "photoUrl": "https://lh3.googleusercontent.com/a-/AOh14GjDNBmuvfP0Zl1UXiyJhTXmMIeiuKQ0xltwh-0ZDQ=s64",
      "userId": "16114419505688279817"
     },
     "user_tz": -60
    },
    "id": "EP3HTmTPQRNG",
    "outputId": "debc8069-988a-4a6d-eb60-0fbe30dc5345"
   },
   "outputs": [
    {
     "data": {
      "text/html": [
       "<div>\n",
       "<style scoped>\n",
       "    .dataframe tbody tr th:only-of-type {\n",
       "        vertical-align: middle;\n",
       "    }\n",
       "\n",
       "    .dataframe tbody tr th {\n",
       "        vertical-align: top;\n",
       "    }\n",
       "\n",
       "    .dataframe thead th {\n",
       "        text-align: right;\n",
       "    }\n",
       "</style>\n",
       "<table border=\"1\" class=\"dataframe\">\n",
       "  <thead>\n",
       "    <tr style=\"text-align: right;\">\n",
       "      <th></th>\n",
       "      <th>buying</th>\n",
       "      <th>maint</th>\n",
       "      <th>doors</th>\n",
       "      <th>persons</th>\n",
       "      <th>lug_boot</th>\n",
       "      <th>safety</th>\n",
       "      <th>class</th>\n",
       "    </tr>\n",
       "  </thead>\n",
       "  <tbody>\n",
       "    <tr>\n",
       "      <th>0</th>\n",
       "      <td>vhigh</td>\n",
       "      <td>vhigh</td>\n",
       "      <td>2</td>\n",
       "      <td>2</td>\n",
       "      <td>small</td>\n",
       "      <td>low</td>\n",
       "      <td>unacc</td>\n",
       "    </tr>\n",
       "    <tr>\n",
       "      <th>1</th>\n",
       "      <td>vhigh</td>\n",
       "      <td>vhigh</td>\n",
       "      <td>2</td>\n",
       "      <td>2</td>\n",
       "      <td>small</td>\n",
       "      <td>med</td>\n",
       "      <td>unacc</td>\n",
       "    </tr>\n",
       "    <tr>\n",
       "      <th>2</th>\n",
       "      <td>vhigh</td>\n",
       "      <td>vhigh</td>\n",
       "      <td>2</td>\n",
       "      <td>2</td>\n",
       "      <td>small</td>\n",
       "      <td>high</td>\n",
       "      <td>unacc</td>\n",
       "    </tr>\n",
       "    <tr>\n",
       "      <th>3</th>\n",
       "      <td>vhigh</td>\n",
       "      <td>vhigh</td>\n",
       "      <td>2</td>\n",
       "      <td>2</td>\n",
       "      <td>med</td>\n",
       "      <td>low</td>\n",
       "      <td>unacc</td>\n",
       "    </tr>\n",
       "    <tr>\n",
       "      <th>4</th>\n",
       "      <td>vhigh</td>\n",
       "      <td>vhigh</td>\n",
       "      <td>2</td>\n",
       "      <td>2</td>\n",
       "      <td>med</td>\n",
       "      <td>med</td>\n",
       "      <td>unacc</td>\n",
       "    </tr>\n",
       "  </tbody>\n",
       "</table>\n",
       "</div>"
      ],
      "text/plain": [
       "  buying  maint doors persons lug_boot safety  class\n",
       "0  vhigh  vhigh     2       2    small    low  unacc\n",
       "1  vhigh  vhigh     2       2    small    med  unacc\n",
       "2  vhigh  vhigh     2       2    small   high  unacc\n",
       "3  vhigh  vhigh     2       2      med    low  unacc\n",
       "4  vhigh  vhigh     2       2      med    med  unacc"
      ]
     },
     "execution_count": 3,
     "metadata": {},
     "output_type": "execute_result"
    }
   ],
   "source": [
    "df= pd.read_csv('car.csv')\n",
    "df.head()"
   ]
  },
  {
   "cell_type": "markdown",
   "metadata": {
    "id": "_uNVysRFrFvd"
   },
   "source": [
    "### Label Encoding of Categorical Features"
   ]
  },
  {
   "cell_type": "code",
   "execution_count": 4,
   "metadata": {
    "colab": {
     "base_uri": "https://localhost:8080/",
     "height": 206
    },
    "executionInfo": {
     "elapsed": 15,
     "status": "ok",
     "timestamp": 1640349433381,
     "user": {
      "displayName": "Ravi Vaghasiya",
      "photoUrl": "https://lh3.googleusercontent.com/a-/AOh14GjDNBmuvfP0Zl1UXiyJhTXmMIeiuKQ0xltwh-0ZDQ=s64",
      "userId": "16114419505688279817"
     },
     "user_tz": -60
    },
    "id": "qMTLqRy6wvsw",
    "outputId": "ccc88baa-9e0c-4033-c6b2-1fa725a76a9f"
   },
   "outputs": [
    {
     "data": {
      "text/html": [
       "<div>\n",
       "<style scoped>\n",
       "    .dataframe tbody tr th:only-of-type {\n",
       "        vertical-align: middle;\n",
       "    }\n",
       "\n",
       "    .dataframe tbody tr th {\n",
       "        vertical-align: top;\n",
       "    }\n",
       "\n",
       "    .dataframe thead th {\n",
       "        text-align: right;\n",
       "    }\n",
       "</style>\n",
       "<table border=\"1\" class=\"dataframe\">\n",
       "  <thead>\n",
       "    <tr style=\"text-align: right;\">\n",
       "      <th></th>\n",
       "      <th>buying</th>\n",
       "      <th>maint</th>\n",
       "      <th>doors</th>\n",
       "      <th>persons</th>\n",
       "      <th>lug_boot</th>\n",
       "      <th>safety</th>\n",
       "      <th>class</th>\n",
       "    </tr>\n",
       "  </thead>\n",
       "  <tbody>\n",
       "    <tr>\n",
       "      <th>0</th>\n",
       "      <td>3</td>\n",
       "      <td>3</td>\n",
       "      <td>0</td>\n",
       "      <td>0</td>\n",
       "      <td>2</td>\n",
       "      <td>1</td>\n",
       "      <td>2</td>\n",
       "    </tr>\n",
       "    <tr>\n",
       "      <th>1</th>\n",
       "      <td>3</td>\n",
       "      <td>3</td>\n",
       "      <td>0</td>\n",
       "      <td>0</td>\n",
       "      <td>2</td>\n",
       "      <td>2</td>\n",
       "      <td>2</td>\n",
       "    </tr>\n",
       "    <tr>\n",
       "      <th>2</th>\n",
       "      <td>3</td>\n",
       "      <td>3</td>\n",
       "      <td>0</td>\n",
       "      <td>0</td>\n",
       "      <td>2</td>\n",
       "      <td>0</td>\n",
       "      <td>2</td>\n",
       "    </tr>\n",
       "    <tr>\n",
       "      <th>3</th>\n",
       "      <td>3</td>\n",
       "      <td>3</td>\n",
       "      <td>0</td>\n",
       "      <td>0</td>\n",
       "      <td>1</td>\n",
       "      <td>1</td>\n",
       "      <td>2</td>\n",
       "    </tr>\n",
       "    <tr>\n",
       "      <th>4</th>\n",
       "      <td>3</td>\n",
       "      <td>3</td>\n",
       "      <td>0</td>\n",
       "      <td>0</td>\n",
       "      <td>1</td>\n",
       "      <td>2</td>\n",
       "      <td>2</td>\n",
       "    </tr>\n",
       "  </tbody>\n",
       "</table>\n",
       "</div>"
      ],
      "text/plain": [
       "   buying  maint  doors  persons  lug_boot  safety  class\n",
       "0       3      3      0        0         2       1      2\n",
       "1       3      3      0        0         2       2      2\n",
       "2       3      3      0        0         2       0      2\n",
       "3       3      3      0        0         1       1      2\n",
       "4       3      3      0        0         1       2      2"
      ]
     },
     "execution_count": 4,
     "metadata": {},
     "output_type": "execute_result"
    }
   ],
   "source": [
    "from sklearn.preprocessing import LabelEncoder\n",
    "le=LabelEncoder()\n",
    "for i in df.columns:\n",
    "  df[i]=le.fit_transform(df[i])\n",
    "df.head()"
   ]
  },
  {
   "cell_type": "markdown",
   "metadata": {
    "id": "3BwR2JexFSVP"
   },
   "source": [
    "### Extract features and target value from dataset"
   ]
  },
  {
   "cell_type": "code",
   "execution_count": 5,
   "metadata": {
    "id": "TfB-Jg-XFbKA"
   },
   "outputs": [],
   "source": [
    "X=df.iloc[:,:-1].values\n",
    "y=df.iloc[:,-1].values"
   ]
  },
  {
   "cell_type": "markdown",
   "metadata": {
    "id": "YvxIPVyMhmKp"
   },
   "source": [
    "### Splitting the dataset into the Training set and Test set"
   ]
  },
  {
   "cell_type": "code",
   "execution_count": 6,
   "metadata": {
    "id": "2pDNMBBWQ4BI"
   },
   "outputs": [],
   "source": [
    "from  sklearn.model_selection import train_test_split\n",
    "X_train,X_test,y_train,y_test=train_test_split(X,y,test_size=0.25,random_state=0)"
   ]
  },
  {
   "cell_type": "code",
   "execution_count": 7,
   "metadata": {
    "colab": {
     "base_uri": "https://localhost:8080/"
    },
    "executionInfo": {
     "elapsed": 83,
     "status": "ok",
     "timestamp": 1640349433767,
     "user": {
      "displayName": "Ravi Vaghasiya",
      "photoUrl": "https://lh3.googleusercontent.com/a-/AOh14GjDNBmuvfP0Zl1UXiyJhTXmMIeiuKQ0xltwh-0ZDQ=s64",
      "userId": "16114419505688279817"
     },
     "user_tz": -60
    },
    "id": "9Cm0CiiGRXBI",
    "outputId": "75f61e85-2312-4875-f9e1-c657b7eddfa9"
   },
   "outputs": [
    {
     "name": "stdout",
     "output_type": "stream",
     "text": [
      "[2 2 2 2 2 1 2 0 0 2 2 2 0 2 2 0 2 2 0 2 1 0 0 2 2 2 2 2 2 2 1 0 2 0 1 2 2\n",
      " 2 2 2 2 2 2 2 3 2 2 0 2 2 2 2 2 2 2 2 2 2 2 0 0 2 2 2 2 0 2 2 2 2 2 0 0 0\n",
      " 0 0 2 0 0 2 0 0 0 2 2 2 2 1 2 2 2 0 2 2 2 3 2 0 0 2 2 2 0 2 3 0 2 0 2 2 2\n",
      " 2 2 0 2 1 0 2 2 2 2 2 3 2 2 2 2 0 1 2 2 2 0 2 2 2 2 2 2 2 2 2 2 0 2 2 0 2\n",
      " 0 0 0 0 2 2 2 0 2 2 2 2 0 2 2 2 0 2 2 2 2 2 2 2 2 2 0 2 2 2 2 2 0 0 0 2 0\n",
      " 2 1 2 2 2 2 0 2 2 2 0 2 1 2 2 2 2 0 2 2 2 2 2 2 2 2 0 2 2 2 2 2 0 2 2 2 0\n",
      " 2 3 2 2 2 3 2 2 2 2 0 2 2 2 2 2 2 2 2 2 2 2 1 2 0 2 2 2 2 2 1 0 0 0 0 2 2\n",
      " 2 0 2 2 0 2 2 3 2 0 2 2 2 0 2 0 2 2 2 2 2 2 2 0 2 2 0 2 3 1 2 2 2 2 2 2 2\n",
      " 2 2 2 0 2 0 0 1 1 2 0 2 0 2 1 0 2 2 2 2 2 2 2 0 2 2 0 2 0 0 2 2 2 2 0 2 1\n",
      " 2 1 2 2 2 3 2 2 3 2 0 2 0 2 2 2 2 0 2 2 0 2 2 2 0 2 0 2 0 2 2 1 3 0 0 2 3\n",
      " 2 2 2 0 2 2 2 0 2 0 1 2 1 2 2 2 0 2 2 2 2 2 2 3 2 2 0 2 2 0 2 0 2 2 3 2 2\n",
      " 2 2 0 2 2 2 2 2 2 0 0 2 0 2 1 3 2 2 2 3 2 2 0 2 0]\n"
     ]
    }
   ],
   "source": [
    "print(y_test)"
   ]
  },
  {
   "cell_type": "code",
   "execution_count": 8,
   "metadata": {
    "colab": {
     "base_uri": "https://localhost:8080/"
    },
    "executionInfo": {
     "elapsed": 81,
     "status": "ok",
     "timestamp": 1640349433769,
     "user": {
      "displayName": "Ravi Vaghasiya",
      "photoUrl": "https://lh3.googleusercontent.com/a-/AOh14GjDNBmuvfP0Zl1UXiyJhTXmMIeiuKQ0xltwh-0ZDQ=s64",
      "userId": "16114419505688279817"
     },
     "user_tz": -60
    },
    "id": "wx1qRmtKRTDK",
    "outputId": "348e200a-a75f-4dcc-823b-8741f4ecb612"
   },
   "outputs": [
    {
     "name": "stdout",
     "output_type": "stream",
     "text": [
      "(1296, 6)\n"
     ]
    }
   ],
   "source": [
    "print(X_train.shape)"
   ]
  },
  {
   "cell_type": "markdown",
   "metadata": {
    "id": "kW3c7UYih0hT"
   },
   "source": [
    "### Feature Scaling"
   ]
  },
  {
   "cell_type": "code",
   "execution_count": 9,
   "metadata": {
    "id": "zaUnMExsRhGX"
   },
   "outputs": [],
   "source": [
    "from sklearn.preprocessing import StandardScaler\n",
    "sc_X=StandardScaler()\n",
    "X_train=sc_X.fit_transform(X_train)\n",
    "X_test=sc_X.transform(X_test)"
   ]
  },
  {
   "cell_type": "code",
   "execution_count": 10,
   "metadata": {
    "colab": {
     "base_uri": "https://localhost:8080/"
    },
    "executionInfo": {
     "elapsed": 72,
     "status": "ok",
     "timestamp": 1640349433772,
     "user": {
      "displayName": "Ravi Vaghasiya",
      "photoUrl": "https://lh3.googleusercontent.com/a-/AOh14GjDNBmuvfP0Zl1UXiyJhTXmMIeiuKQ0xltwh-0ZDQ=s64",
      "userId": "16114419505688279817"
     },
     "user_tz": -60
    },
    "id": "CkLIDI5FTRv3",
    "outputId": "72e22092-097b-42c5-d452-57edbdab469e"
   },
   "outputs": [
    {
     "data": {
      "text/plain": [
       "array([[-1.33945466,  1.38833941,  1.3399952 , -1.22003611, -1.23282188,\n",
       "         1.24823964],\n",
       "       [-1.33945466, -1.31194254,  1.3399952 , -1.22003611,  1.22523528,\n",
       "         0.01333997],\n",
       "       [ 0.44281766, -1.31194254, -0.45219652,  1.22380747,  1.22523528,\n",
       "         0.01333997],\n",
       "       [ 0.44281766, -0.41184856,  1.3399952 , -1.22003611, -0.0037933 ,\n",
       "         1.24823964],\n",
       "       [ 0.44281766,  1.38833941,  0.44389934, -1.22003611, -1.23282188,\n",
       "         0.01333997]])"
      ]
     },
     "execution_count": 10,
     "metadata": {},
     "output_type": "execute_result"
    }
   ],
   "source": [
    "X_train[0:5]"
   ]
  },
  {
   "cell_type": "code",
   "execution_count": 11,
   "metadata": {
    "colab": {
     "base_uri": "https://localhost:8080/"
    },
    "executionInfo": {
     "elapsed": 67,
     "status": "ok",
     "timestamp": 1640349433773,
     "user": {
      "displayName": "Ravi Vaghasiya",
      "photoUrl": "https://lh3.googleusercontent.com/a-/AOh14GjDNBmuvfP0Zl1UXiyJhTXmMIeiuKQ0xltwh-0ZDQ=s64",
      "userId": "16114419505688279817"
     },
     "user_tz": -60
    },
    "id": "2DcbX5mRTVWz",
    "outputId": "c7527faa-bf22-44ad-8884-70b9df9e7786"
   },
   "outputs": [
    {
     "data": {
      "text/plain": [
       "array([[-0.4483185 ,  1.38833941, -1.34829239,  1.22380747, -0.0037933 ,\n",
       "         1.24823964],\n",
       "       [ 1.33395382, -1.31194254, -1.34829239,  0.00188568, -1.23282188,\n",
       "         1.24823964],\n",
       "       [-1.33945466,  0.48824542, -1.34829239, -1.22003611,  1.22523528,\n",
       "         0.01333997],\n",
       "       [ 1.33395382,  0.48824542, -0.45219652, -1.22003611, -1.23282188,\n",
       "         0.01333997],\n",
       "       [-0.4483185 ,  0.48824542,  1.3399952 , -1.22003611, -1.23282188,\n",
       "         0.01333997]])"
      ]
     },
     "execution_count": 11,
     "metadata": {},
     "output_type": "execute_result"
    }
   ],
   "source": [
    "X_test[:5]"
   ]
  },
  {
   "cell_type": "markdown",
   "metadata": {
    "id": "bb6jCOCQiAmP"
   },
   "source": [
    "### Training the Naive Bayes model on the Training set"
   ]
  },
  {
   "cell_type": "code",
   "execution_count": 12,
   "metadata": {
    "colab": {
     "base_uri": "https://localhost:8080/"
    },
    "executionInfo": {
     "elapsed": 62,
     "status": "ok",
     "timestamp": 1640349433775,
     "user": {
      "displayName": "Ravi Vaghasiya",
      "photoUrl": "https://lh3.googleusercontent.com/a-/AOh14GjDNBmuvfP0Zl1UXiyJhTXmMIeiuKQ0xltwh-0ZDQ=s64",
      "userId": "16114419505688279817"
     },
     "user_tz": -60
    },
    "id": "PPxyEMr8TgXm",
    "outputId": "b0231311-ee2f-48e3-a99b-e23c045f5a99"
   },
   "outputs": [
    {
     "data": {
      "text/plain": [
       "GaussianNB()"
      ]
     },
     "execution_count": 12,
     "metadata": {},
     "output_type": "execute_result"
    }
   ],
   "source": [
    "from sklearn.naive_bayes import GaussianNB\n",
    "cls=GaussianNB()\n",
    "cls.fit(X_train,y_train)"
   ]
  },
  {
   "cell_type": "markdown",
   "metadata": {
    "id": "vKYVQH-l5NpE"
   },
   "source": [
    "### Predicting the Test set results"
   ]
  },
  {
   "cell_type": "code",
   "execution_count": 13,
   "metadata": {
    "colab": {
     "base_uri": "https://localhost:8080/"
    },
    "executionInfo": {
     "elapsed": 58,
     "status": "ok",
     "timestamp": 1640349433777,
     "user": {
      "displayName": "Ravi Vaghasiya",
      "photoUrl": "https://lh3.googleusercontent.com/a-/AOh14GjDNBmuvfP0Zl1UXiyJhTXmMIeiuKQ0xltwh-0ZDQ=s64",
      "userId": "16114419505688279817"
     },
     "user_tz": -60
    },
    "id": "GJrqn-yMZPrH",
    "outputId": "205308e0-f006-4340-d053-c98bdc81d019"
   },
   "outputs": [
    {
     "name": "stdout",
     "output_type": "stream",
     "text": [
      "[[2 2]\n",
      " [2 2]\n",
      " [2 2]\n",
      " [2 2]\n",
      " [2 2]\n",
      " [3 1]\n",
      " [2 2]\n",
      " [3 0]\n",
      " [2 0]\n",
      " [2 2]\n",
      " [2 2]\n",
      " [3 2]\n",
      " [2 0]\n",
      " [2 2]\n",
      " [2 2]\n",
      " [2 0]\n",
      " [2 2]\n",
      " [2 2]\n",
      " [2 0]\n",
      " [2 2]\n",
      " [3 1]\n",
      " [3 0]\n",
      " [2 0]\n",
      " [2 2]\n",
      " [2 2]\n",
      " [2 2]\n",
      " [2 2]\n",
      " [2 2]\n",
      " [3 2]\n",
      " [2 2]\n",
      " [3 1]\n",
      " [3 0]\n",
      " [2 2]\n",
      " [3 0]\n",
      " [2 1]\n",
      " [2 2]\n",
      " [2 2]\n",
      " [2 2]\n",
      " [2 2]\n",
      " [3 2]\n",
      " [2 2]\n",
      " [2 2]\n",
      " [2 2]\n",
      " [2 2]\n",
      " [3 3]\n",
      " [2 2]\n",
      " [2 2]\n",
      " [2 0]\n",
      " [2 2]\n",
      " [0 2]\n",
      " [2 2]\n",
      " [2 2]\n",
      " [2 2]\n",
      " [2 2]\n",
      " [3 2]\n",
      " [3 2]\n",
      " [2 2]\n",
      " [3 2]\n",
      " [2 2]\n",
      " [2 0]\n",
      " [3 0]\n",
      " [2 2]\n",
      " [2 2]\n",
      " [3 2]\n",
      " [2 2]\n",
      " [3 0]\n",
      " [2 2]\n",
      " [3 2]\n",
      " [2 2]\n",
      " [3 2]\n",
      " [2 2]\n",
      " [3 0]\n",
      " [3 0]\n",
      " [3 0]\n",
      " [2 0]\n",
      " [2 0]\n",
      " [2 2]\n",
      " [2 0]\n",
      " [3 0]\n",
      " [3 2]\n",
      " [2 0]\n",
      " [2 0]\n",
      " [2 0]\n",
      " [3 2]\n",
      " [2 2]\n",
      " [2 2]\n",
      " [2 2]\n",
      " [2 1]\n",
      " [2 2]\n",
      " [2 2]\n",
      " [2 2]\n",
      " [3 0]\n",
      " [2 2]\n",
      " [2 2]\n",
      " [2 2]\n",
      " [3 3]\n",
      " [0 2]\n",
      " [2 0]\n",
      " [3 0]\n",
      " [2 2]\n",
      " [3 2]\n",
      " [2 2]\n",
      " [3 0]\n",
      " [2 2]\n",
      " [3 3]\n",
      " [0 0]\n",
      " [3 2]\n",
      " [3 0]\n",
      " [2 2]\n",
      " [2 2]\n",
      " [3 2]\n",
      " [3 2]\n",
      " [2 2]\n",
      " [2 0]\n",
      " [2 2]\n",
      " [3 1]\n",
      " [3 0]\n",
      " [2 2]\n",
      " [2 2]\n",
      " [3 2]\n",
      " [2 2]\n",
      " [0 2]\n",
      " [3 3]\n",
      " [3 2]\n",
      " [2 2]\n",
      " [2 2]\n",
      " [2 2]\n",
      " [3 0]\n",
      " [2 1]\n",
      " [2 2]\n",
      " [3 2]\n",
      " [2 2]\n",
      " [2 0]\n",
      " [2 2]\n",
      " [0 2]\n",
      " [2 2]\n",
      " [2 2]\n",
      " [2 2]\n",
      " [2 2]\n",
      " [2 2]\n",
      " [2 2]\n",
      " [2 2]\n",
      " [2 2]\n",
      " [3 0]\n",
      " [2 2]\n",
      " [2 2]\n",
      " [3 0]\n",
      " [2 2]\n",
      " [3 0]\n",
      " [2 0]\n",
      " [0 0]\n",
      " [0 0]\n",
      " [2 2]\n",
      " [2 2]\n",
      " [2 2]\n",
      " [3 0]\n",
      " [2 2]\n",
      " [2 2]\n",
      " [2 2]\n",
      " [2 2]\n",
      " [2 0]\n",
      " [2 2]\n",
      " [2 2]\n",
      " [2 2]\n",
      " [3 0]\n",
      " [2 2]\n",
      " [2 2]\n",
      " [3 2]\n",
      " [2 2]\n",
      " [2 2]\n",
      " [2 2]\n",
      " [2 2]\n",
      " [2 2]\n",
      " [2 2]\n",
      " [2 0]\n",
      " [3 2]\n",
      " [2 2]\n",
      " [3 2]\n",
      " [2 2]\n",
      " [2 2]\n",
      " [3 0]\n",
      " [3 0]\n",
      " [3 0]\n",
      " [3 2]\n",
      " [3 0]\n",
      " [2 2]\n",
      " [3 1]\n",
      " [2 2]\n",
      " [2 2]\n",
      " [2 2]\n",
      " [2 2]\n",
      " [3 0]\n",
      " [2 2]\n",
      " [3 2]\n",
      " [2 2]\n",
      " [3 0]\n",
      " [3 2]\n",
      " [0 1]\n",
      " [2 2]\n",
      " [2 2]\n",
      " [3 2]\n",
      " [2 2]\n",
      " [3 0]\n",
      " [2 2]\n",
      " [2 2]\n",
      " [2 2]\n",
      " [2 2]\n",
      " [2 2]\n",
      " [2 2]\n",
      " [3 2]\n",
      " [3 2]\n",
      " [3 0]\n",
      " [2 2]\n",
      " [2 2]\n",
      " [2 2]\n",
      " [3 2]\n",
      " [2 2]\n",
      " [3 0]\n",
      " [3 2]\n",
      " [2 2]\n",
      " [2 2]\n",
      " [3 0]\n",
      " [2 2]\n",
      " [3 3]\n",
      " [2 2]\n",
      " [3 2]\n",
      " [2 2]\n",
      " [3 3]\n",
      " [2 2]\n",
      " [2 2]\n",
      " [2 2]\n",
      " [2 2]\n",
      " [2 0]\n",
      " [2 2]\n",
      " [2 2]\n",
      " [2 2]\n",
      " [2 2]\n",
      " [2 2]\n",
      " [2 2]\n",
      " [2 2]\n",
      " [2 2]\n",
      " [2 2]\n",
      " [2 2]\n",
      " [2 2]\n",
      " [3 1]\n",
      " [2 2]\n",
      " [3 0]\n",
      " [2 2]\n",
      " [2 2]\n",
      " [2 2]\n",
      " [2 2]\n",
      " [3 2]\n",
      " [3 1]\n",
      " [3 0]\n",
      " [3 0]\n",
      " [3 0]\n",
      " [2 0]\n",
      " [2 2]\n",
      " [2 2]\n",
      " [2 2]\n",
      " [2 0]\n",
      " [2 2]\n",
      " [2 2]\n",
      " [3 0]\n",
      " [2 2]\n",
      " [2 2]\n",
      " [3 3]\n",
      " [2 2]\n",
      " [2 0]\n",
      " [2 2]\n",
      " [2 2]\n",
      " [2 2]\n",
      " [2 0]\n",
      " [2 2]\n",
      " [3 0]\n",
      " [2 2]\n",
      " [2 2]\n",
      " [2 2]\n",
      " [2 2]\n",
      " [2 2]\n",
      " [2 2]\n",
      " [0 2]\n",
      " [2 0]\n",
      " [2 2]\n",
      " [3 2]\n",
      " [3 0]\n",
      " [2 2]\n",
      " [3 3]\n",
      " [2 1]\n",
      " [2 2]\n",
      " [3 2]\n",
      " [2 2]\n",
      " [2 2]\n",
      " [2 2]\n",
      " [3 2]\n",
      " [0 2]\n",
      " [2 2]\n",
      " [2 2]\n",
      " [2 2]\n",
      " [2 0]\n",
      " [2 2]\n",
      " [3 0]\n",
      " [3 0]\n",
      " [2 1]\n",
      " [0 1]\n",
      " [2 2]\n",
      " [2 0]\n",
      " [2 2]\n",
      " [2 0]\n",
      " [2 2]\n",
      " [3 1]\n",
      " [2 0]\n",
      " [2 2]\n",
      " [2 2]\n",
      " [2 2]\n",
      " [2 2]\n",
      " [2 2]\n",
      " [2 2]\n",
      " [2 2]\n",
      " [3 0]\n",
      " [2 2]\n",
      " [3 2]\n",
      " [0 0]\n",
      " [3 2]\n",
      " [3 0]\n",
      " [0 0]\n",
      " [2 2]\n",
      " [2 2]\n",
      " [2 2]\n",
      " [2 2]\n",
      " [3 0]\n",
      " [2 2]\n",
      " [0 1]\n",
      " [2 2]\n",
      " [2 1]\n",
      " [2 2]\n",
      " [2 2]\n",
      " [2 2]\n",
      " [3 3]\n",
      " [2 2]\n",
      " [2 2]\n",
      " [3 3]\n",
      " [2 2]\n",
      " [3 0]\n",
      " [2 2]\n",
      " [2 0]\n",
      " [3 2]\n",
      " [2 2]\n",
      " [2 2]\n",
      " [2 2]\n",
      " [2 0]\n",
      " [3 2]\n",
      " [2 2]\n",
      " [2 0]\n",
      " [2 2]\n",
      " [3 2]\n",
      " [3 2]\n",
      " [3 0]\n",
      " [2 2]\n",
      " [2 0]\n",
      " [2 2]\n",
      " [3 0]\n",
      " [2 2]\n",
      " [2 2]\n",
      " [3 1]\n",
      " [3 3]\n",
      " [2 0]\n",
      " [2 0]\n",
      " [2 2]\n",
      " [3 3]\n",
      " [2 2]\n",
      " [2 2]\n",
      " [2 2]\n",
      " [2 0]\n",
      " [2 2]\n",
      " [2 2]\n",
      " [3 2]\n",
      " [2 0]\n",
      " [2 2]\n",
      " [3 0]\n",
      " [0 1]\n",
      " [3 2]\n",
      " [2 1]\n",
      " [2 2]\n",
      " [2 2]\n",
      " [2 2]\n",
      " [0 0]\n",
      " [3 2]\n",
      " [2 2]\n",
      " [3 2]\n",
      " [2 2]\n",
      " [2 2]\n",
      " [2 2]\n",
      " [3 3]\n",
      " [2 2]\n",
      " [2 2]\n",
      " [3 0]\n",
      " [2 2]\n",
      " [3 2]\n",
      " [2 0]\n",
      " [2 2]\n",
      " [2 0]\n",
      " [2 2]\n",
      " [2 2]\n",
      " [3 3]\n",
      " [3 2]\n",
      " [3 2]\n",
      " [3 2]\n",
      " [3 2]\n",
      " [2 0]\n",
      " [2 2]\n",
      " [2 2]\n",
      " [2 2]\n",
      " [2 2]\n",
      " [2 2]\n",
      " [2 2]\n",
      " [2 0]\n",
      " [3 0]\n",
      " [2 2]\n",
      " [2 0]\n",
      " [2 2]\n",
      " [2 1]\n",
      " [3 3]\n",
      " [2 2]\n",
      " [2 2]\n",
      " [2 2]\n",
      " [3 3]\n",
      " [2 2]\n",
      " [2 2]\n",
      " [3 0]\n",
      " [2 2]\n",
      " [3 0]]\n"
     ]
    }
   ],
   "source": [
    "y_predict=cls.predict(X_test)\n",
    "print(np.concatenate((y_predict.reshape(len(y_predict),1), y_test.reshape(len(y_test),1)),1))"
   ]
  },
  {
   "cell_type": "markdown",
   "metadata": {
    "id": "h4Hwj34ziWQW"
   },
   "source": [
    "### Making the Confusion Matrix"
   ]
  },
  {
   "cell_type": "code",
   "execution_count": 14,
   "metadata": {
    "colab": {
     "base_uri": "https://localhost:8080/"
    },
    "executionInfo": {
     "elapsed": 53,
     "status": "ok",
     "timestamp": 1640349433778,
     "user": {
      "displayName": "Ravi Vaghasiya",
      "photoUrl": "https://lh3.googleusercontent.com/a-/AOh14GjDNBmuvfP0Zl1UXiyJhTXmMIeiuKQ0xltwh-0ZDQ=s64",
      "userId": "16114419505688279817"
     },
     "user_tz": -60
    },
    "id": "jwbIjcw0efwA",
    "outputId": "d0c5da78-5e04-44d6-e70b-5b415e2f5b6a"
   },
   "outputs": [
    {
     "name": "stdout",
     "output_type": "stream",
     "text": [
      "[[  6   0  42  51]\n",
      " [  4   0   8   9]\n",
      " [  6   0 241  49]\n",
      " [  0   0   0  16]]\n"
     ]
    }
   ],
   "source": [
    "from sklearn.metrics import confusion_matrix\n",
    "cm=confusion_matrix(y_test,y_predict)\n",
    "print(cm)"
   ]
  },
  {
   "cell_type": "code",
   "execution_count": 15,
   "metadata": {
    "colab": {
     "base_uri": "https://localhost:8080/"
    },
    "executionInfo": {
     "elapsed": 37,
     "status": "ok",
     "timestamp": 1640349433779,
     "user": {
      "displayName": "Ravi Vaghasiya",
      "photoUrl": "https://lh3.googleusercontent.com/a-/AOh14GjDNBmuvfP0Zl1UXiyJhTXmMIeiuKQ0xltwh-0ZDQ=s64",
      "userId": "16114419505688279817"
     },
     "user_tz": -60
    },
    "id": "6zZOHUw_gRYK",
    "outputId": "deca0b95-3af9-41b1-c1a2-6072042710a3"
   },
   "outputs": [
    {
     "name": "stdout",
     "output_type": "stream",
     "text": [
      "Accuracy 60.88 %\n"
     ]
    }
   ],
   "source": [
    "from sklearn.metrics import accuracy_score\n",
    "accuracy=accuracy_score(y_test,y_predict)\n",
    "print('Accuracy {:.2f} %'.format(accuracy*100))"
   ]
  }
 ],
 "metadata": {
  "accelerator": "GPU",
  "colab": {
   "collapsed_sections": [],
   "machine_shape": "hm",
   "name": "Car_Evaluation_Naive_Bayes.ipynb",
   "provenance": [],
   "toc_visible": true
  },
  "kernelspec": {
   "display_name": "Python 3 (ipykernel)",
   "language": "python",
   "name": "python3"
  },
  "language_info": {
   "codemirror_mode": {
    "name": "ipython",
    "version": 3
   },
   "file_extension": ".py",
   "mimetype": "text/x-python",
   "name": "python",
   "nbconvert_exporter": "python",
   "pygments_lexer": "ipython3",
   "version": "3.9.7"
  }
 },
 "nbformat": 4,
 "nbformat_minor": 1
}
